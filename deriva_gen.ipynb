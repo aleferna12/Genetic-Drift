{
 "cells": [
  {
   "cell_type": "markdown",
   "id": "oHyQiaBuKn8d",
   "metadata": {
    "id": "oHyQiaBuKn8d"
   },
   "source": [
    "## Introdução\n",
    "\n",
    "A deriva genética é um importante fenômeno evolutivo responsável por causar variações nas frequências alélicas de um determinado gene de uma população ao longo do tempo. Devido ao seu caráter estocástico, o efeito da deriva genética é mais forte quanto menor o tamanho da população sobre a qual ela atua. Para melhor entender como funciona esse mecanismo e como ele será simulado a seguir, vejamos o seguinte exemplo:\n",
    "\n",
    "Dois alelos, *A* e *a*, são equifrequentes numa população de 10 organismos diploides. A cada geração, parte dessa população se reproduz, gerando descendência, e parte morre. O percentual da população que morre a cada geração (S) é idêntico ao percentual que é renovado por novos nascimentos, de modo que o tamanho da população (N = 10) é constante ao longo do tempo. Para esse exemplo, vamos assumir que S = 1, o que significa que a população será totalmente renovada a cada geração.\n",
    "\n",
    "O efeito da deriva genética nesse caso nada mais é do que a incerteza associada ao processo de amostragem. Cada vez que amostramos aleatóriamente gametas para gerar os descendentes da população, a frequência dos alelos *A* e *a* variam levemente ao redor de uma média (a média nesse caso é a frequência dos alelos na geração passada). Isso ocorre porque a amostragem é feita com reposição, de modo que o mesmo indivíduo pode contribuir varias vezes os seus gametas para a geração seguinte, gerando variação nas frequências ao longo do tempo. Como a estimativa das frequências alélicas da geração seguinte dependem somente das frequências na geração atual, essa variação pode progressivamente se acumular, causando alterações significativas no panorama genético da população ao longo prazo. Esse efeito é ainda acentuado pelo fato de que o sistema pode evoluir ao longo do tempo, já que alelos são extintos quando sua frequência chega a 0."
   ]
  },
  {
   "cell_type": "markdown",
   "id": "-0kVoHQmeywS",
   "metadata": {
    "id": "-0kVoHQmeywS"
   },
   "source": [
    "## Simulação de deriva genética\n",
    "\n",
    "Baseado no que determinamos previamente, podemos seguir uma série de passos que nos permitirão simular o fenômeno de deriva genética. São eles:\n",
    "\n",
    "1. Inicializar uma população com tamanho N e alelos equifrequentes;\n",
    "2. Para cada geração:\n",
    "  1. Gerar S x N descendentes por cruzamentos aleatórios (amostragem com reposição);\n",
    "  2. Eliminar (1 - S) x N organismos da geração anterior (amostragem sem reposição);\n",
    "  3. Concatenar os descendentes e sobreviventes numa nova população;\n",
    "  4. Avaliar estatisticamente as novas frequências alélicas;\n",
    "3. Quando o número desejado de gerações se passou ou um dos alelos foi fixado, parar a simulação e apresentar os resultados.\n",
    "\n",
    "Onde:\n",
    "\n",
    "+ N = tamanho da população diploide;\n",
    "+ S = percentual (0-1) da população renovada a cada geração.\n",
    "\n",
    "No entanto, podemos ainda simplificar esse algoritmo ao presumir que a população se encontra em equilíbrio de [Hardy-Weinberg](https://pt.wikipedia.org/wiki/Equil%C3%ADbrio_de_Hardy-Weinberg). Essa simplicação é possível porque os nossos cruzamentos ocorrem ao acaso na população, de modo que não é necessário simular cada organismo diploide independentemente. Ao invés disso, podemos resumir a nossa população diploide aos seus gametas, tal que o tamanho da população gamética seja igual a 2 x N. O restante dos passos do algoritmo permanecem iguais."
   ]
  },
  {
   "cell_type": "markdown",
   "id": "Jono8Jp8gD8A",
   "metadata": {
    "id": "Jono8Jp8gD8A"
   },
   "source": [
    "## Resultados esperados\n",
    "\n",
    "Esperamos que o efeito da deriva genética seja mais forte:\n",
    "\n",
    "1. Quanto menor for o tamanho da população (N);\n",
    "2. Quanto maior for a taxa de substituição da população (S).\n",
    "\n",
    "Compare os resultados a seguir, simulados ambos com 3 alelos iniciais por 200 gerações, mas com populações de tamanhos diferentes:\n",
    "\n",
    "![Imgur](https://i.imgur.com/mdrqJ1y.png)\n",
    "\n",
    "Os resultados seguem o que esperávamos? Experimente alterar outros parâmetros no simulador para ver como isso impacta o efeito da deriva genética."
   ]
  },
  {
   "cell_type": "markdown",
   "id": "ryiapDLddujC",
   "metadata": {
    "id": "ryiapDLddujC"
   },
   "source": [
    "## Simulador"
   ]
  },
  {
   "cell_type": "code",
   "execution_count": 1,
   "id": "d823ce62",
   "metadata": {
    "cellView": "form",
    "colab": {
     "base_uri": "https://localhost:8080/",
     "height": 383,
     "referenced_widgets": [
      "f37d04fc6bed45309d1afbc25f53a30d",
      "151994a099cb4093a3ab730458284453",
      "1030084dd7c74e32bcbf2eee94e90c49",
      "5385a790d8cf4d3cbbfdb14aaac1cb12",
      "478b4a43287e4f50b67823822ee7e7f8",
      "be27961e94854234a7f091c50cc5c07f",
      "b0b9d6237246429ca47da22c13e393db",
      "93afbdaaf3d04e4abda9b6f8be25f567",
      "de09d893fb834c6c9f2da7c4d801cb50",
      "d393d90d886549ccaa27e4123b0e8dfb",
      "286d16f3085542c083091fe20af855ac",
      "69873bc707354544abad9d8b8ba53fd6",
      "bd22e8189c16414498ee5fb930a6ff18",
      "f3ea77f662a748e0ab4c76af5c1f7c67",
      "fb6cd2b58abf49d69e0fb524e2a4adae",
      "0ceb07cb874f483f9afa8ac0148c6788",
      "7c091d1132b0438abed9a8c887a4216e",
      "edcc1230080a47aebd792d37dd2e9d6e",
      "15defca047044317b48e38c44728b6ed",
      "5a899b83c1af4640bdaaa0d44564014b",
      "a511cea39c4d4695a16b1dbcce7eda49",
      "7b72c7137c014eae9bf44f93f33240f5",
      "3e6a9f9c4a814c29bbf2ac1fee1135c9",
      "c1bb0e3cda9b4d88b8c52ca7c2196f50",
      "515b1eac1ca0461cba8212b38eafd4bf",
      "4c79d59e864447fc843bf821bbd79fae",
      "e593af0b897b43ef83c2d0f34e2570e3",
      "ecf8fd6bf3c34dfaa5eacd4d77b278bc",
      "24e6faf0554949ad9ce735a344ce9027",
      "3ff1bd88dd184074beb617fc9ade6553",
      "0091950e4e6349faa7305e43fb2ec476",
      "2bcafdc761c04962add03af91f8ac410",
      "662d736700fc4c8eb11fb369122bd0b0",
      "95dd3b29500c4bbeb4f0207f82645b04",
      "da203a3f2697487e84bfd3e56bb2c4b9",
      "0b98c2aae017461da9e7e1176769dbcd",
      "dc123508df3e453cbf1f9218a4373e58",
      "e04362bcc8fc46e68e861f7700bd79c2",
      "5860b2bd710d4c898869a6d387ba8f64",
      "d036d51c7df74a9da804c77d99a29e2f",
      "1748fc5067b64f848ffd88f3c8914f24",
      "81cf75f5f7fd46908e7cfa8d171da5aa",
      "da88cff978914ba19e69534b78ac7e29",
      "2aec2fbc3c48450da697f6f28f5c974f",
      "0cee67c2191f4b53ac3fbdd374fa3547",
      "f8c80ef0b1f043e09078e38645e311f8",
      "db73c0feb3e04560ab59a986d7325959",
      "744a2f8dc7f647e4938b9af57ddb901b"
     ]
    },
    "hideCode": true,
    "hidePrompt": true,
    "hide_input": false,
    "id": "d823ce62",
    "outputId": "37d2d22b-f707-4143-df26-79856e5adb48",
    "scrolled": true
   },
   "outputs": [
    {
     "data": {
      "application/vnd.jupyter.widget-view+json": {
       "model_id": "0f6b826533c749f98f6b1492745ab9e8",
       "version_major": 2,
       "version_minor": 0
      },
      "text/plain": [
       "Label(value='População:')"
      ]
     },
     "metadata": {},
     "output_type": "display_data"
    },
    {
     "data": {
      "application/vnd.jupyter.widget-view+json": {
       "model_id": "39b1ed4c0aa74fd4975152d85d7b2e22",
       "version_major": 2,
       "version_minor": 0
      },
      "text/plain": [
       "FloatLogSlider(value=1000.0, max=6.0)"
      ]
     },
     "metadata": {},
     "output_type": "display_data"
    },
    {
     "data": {
      "application/vnd.jupyter.widget-view+json": {
       "model_id": "752cd0ec2a564fa9a07e3ad3022c443e",
       "version_major": 2,
       "version_minor": 0
      },
      "text/plain": [
       "Label(value='Núm. de alelos:')"
      ]
     },
     "metadata": {},
     "output_type": "display_data"
    },
    {
     "data": {
      "application/vnd.jupyter.widget-view+json": {
       "model_id": "4cf3024da696439582a6e78abd8c5365",
       "version_major": 2,
       "version_minor": 0
      },
      "text/plain": [
       "IntSlider(value=3, max=10, min=1)"
      ]
     },
     "metadata": {},
     "output_type": "display_data"
    },
    {
     "data": {
      "application/vnd.jupyter.widget-view+json": {
       "model_id": "5692aa8566a74c48ac7c71fe5de4d8cb",
       "version_major": 2,
       "version_minor": 0
      },
      "text/plain": [
       "Label(value='Taxa de substituição da pop.:')"
      ]
     },
     "metadata": {},
     "output_type": "display_data"
    },
    {
     "data": {
      "application/vnd.jupyter.widget-view+json": {
       "model_id": "ed5373762ca14969a3d1b78a31734bd6",
       "version_major": 2,
       "version_minor": 0
      },
      "text/plain": [
       "FloatSlider(value=1.0, max=1.0)"
      ]
     },
     "metadata": {},
     "output_type": "display_data"
    },
    {
     "data": {
      "application/vnd.jupyter.widget-view+json": {
       "model_id": "231a8246a825407182eb378e6fe8e914",
       "version_major": 2,
       "version_minor": 0
      },
      "text/plain": [
       "Label(value='Máx. de gerações (-1 para só interromper quando ocorrer fixação):')"
      ]
     },
     "metadata": {},
     "output_type": "display_data"
    },
    {
     "data": {
      "application/vnd.jupyter.widget-view+json": {
       "model_id": "a5276179a1e7461b88199110c16c21b1",
       "version_major": 2,
       "version_minor": 0
      },
      "text/plain": [
       "IntSlider(value=200, max=100000, min=-1)"
      ]
     },
     "metadata": {},
     "output_type": "display_data"
    },
    {
     "data": {
      "application/vnd.jupyter.widget-view+json": {
       "model_id": "84acd3b435a94cd7a1ca982c8dbf1f44",
       "version_major": 2,
       "version_minor": 0
      },
      "text/plain": [
       "Label(value='Melhor de quantas iterações (seleciona a mais longa dentre as iterações):')"
      ]
     },
     "metadata": {},
     "output_type": "display_data"
    },
    {
     "data": {
      "application/vnd.jupyter.widget-view+json": {
       "model_id": "4b930154a654458091c866331f812634",
       "version_major": 2,
       "version_minor": 0
      },
      "text/plain": [
       "IntSlider(value=1, max=50, min=1)"
      ]
     },
     "metadata": {},
     "output_type": "display_data"
    },
    {
     "data": {
      "application/vnd.jupyter.widget-view+json": {
       "model_id": "fa209c4dac25475995b9adb93d78c762",
       "version_major": 2,
       "version_minor": 0
      },
      "text/plain": [
       "HBox(children=(Button(description='Correr', style=ButtonStyle()), Button(description='Limpar', style=ButtonSty…"
      ]
     },
     "metadata": {},
     "output_type": "display_data"
    },
    {
     "data": {
      "application/vnd.jupyter.widget-view+json": {
       "model_id": "debae4d425934d7f94cdcadf6e2cab51",
       "version_major": 2,
       "version_minor": 0
      },
      "text/plain": [
       "Output()"
      ]
     },
     "metadata": {},
     "output_type": "display_data"
    },
    {
     "data": {
      "application/vnd.jupyter.widget-view+json": {
       "model_id": "644bb9e118f44ff092b43d38d4c0b8c0",
       "version_major": 2,
       "version_minor": 0
      },
      "text/plain": [
       "HBox(children=(Label(value='Iteração atual: 0/1'), IntProgress(value=0)), layout=Layout(visibility='hidden'))"
      ]
     },
     "metadata": {},
     "output_type": "display_data"
    }
   ],
   "source": [
    "#@title Clique no botão "▶" abaixo para iniciar o simulador\n",
    "%matplotlib inline\n",
    "import numpy as np\n",
    "import matplotlib.pyplot as plt\n",
    "from ipywidgets import IntSlider, FloatSlider, FloatLogSlider, Button, IntProgress, Label, HBox, Output\n",
    "\n",
    "\n",
    "def simulate(pop, allele_freqs, sub_rate, gens, n_runs):\n",
    "    alleles = tuple(range(len(allele_freqs)))\n",
    "    runs = []\n",
    "    for i in range(n_runs):\n",
    "        run_progress.value = i\n",
    "        run_label.value = f\"Iteração atual: {i}/{run_progress.max}\"\n",
    "        new_pop = np.array(alleles * (2 * pop // len(alleles)) + alleles[:2 * pop % len(alleles)])\n",
    "        stats = [np.bincount(new_pop, minlength=len(alleles)) / (2 * pop)]\n",
    "        while 1 not in stats[-1] and (gens == -1 or len(stats) < gens):\n",
    "            if len(alleles) != len(stats[-1]):\n",
    "                print(i, alleles, stats[-1])\n",
    "            descendents = np.random.choice(alleles, round(2 * pop * sub_rate), p=stats[-1])\n",
    "            survivors = np.random.choice(new_pop, round(2 * pop * (1 - sub_rate)), replace=False)\n",
    "            new_pop = np.concatenate((descendents, survivors))\n",
    "            stats.append(np.bincount(new_pop, minlength=len(alleles)) / (2 * pop))\n",
    "        runs.append(stats)\n",
    "    run_progress.value = run_progress.max\n",
    "    run_label.value = f\"Iteração atual: {run_progress.max}/{run_progress.max}\"\n",
    "    return np.array(max(runs, key=len))\n",
    "\n",
    "\n",
    "def plot(btn):\n",
    "    run_progress.max = run_slider.value\n",
    "    progress_box.layout.visibility = \"visible\"\n",
    "    stats = simulate(round(pop_slider.value),\n",
    "                     [1/allele_slider.value] * allele_slider.value,\n",
    "                     sub_slider.value,\n",
    "                     gen_slider.value, \n",
    "                     run_slider.value)\n",
    "    fig, axes = plt.subplots(1, 2)\n",
    "    fig.set_size_inches(12.8, 2.4)\n",
    "    x = range(len(stats))\n",
    "    axes[0].plot(x, np.where(stats != 0, stats, np.nan))\n",
    "    axes[0].set_ylim((0, 1))\n",
    "    axes[0].autoscale(tight=True, axis=\"x\")\n",
    "    axes[1].stackplot(x, *np.transpose(stats))\n",
    "    axes[1].autoscale(tight=True)\n",
    "    fig.suptitle(f\"População: {round(pop_slider.value)} | \"\n",
    "                 f\"Taxa de subs.: {sub_slider.value} | \"\n",
    "                 f\"Gerações: {len(stats)}\",\n",
    "                 fontsize=\"medium\",\n",
    "                 fontweight=\"bold\")\n",
    "    with out:\n",
    "        plt.show()\n",
    "    progress_box.layout.visibility = \"hidden\"\n",
    "\n",
    "\n",
    "pop_slider = FloatLogSlider(min=0, max=6, value=1000)\n",
    "allele_slider = IntSlider(min=1, max=10, value=3)\n",
    "sub_slider = FloatSlider(min=0, max=1, value=1)\n",
    "gen_slider = IntSlider(min=-1, max=100_000, value=200)\n",
    "run_slider = IntSlider(min=1, max=50, value=1)\n",
    "show_btn = Button(description=\"Correr\")\n",
    "clear_btn = Button(description=\"Limpar\")\n",
    "run_label = Label(value=f\"Iteração atual: 0/{run_slider.value}\")\n",
    "run_progress = IntProgress()\n",
    "out = Output()\n",
    "progress_box = HBox([run_label, run_progress])\n",
    "progress_box.layout.visibility = \"hidden\"\n",
    "    \n",
    "show_btn.on_click(plot)\n",
    "clear_btn.on_click(lambda btn: out.clear_output())\n",
    "display(Label(\"População:\"),\n",
    "        pop_slider,\n",
    "        Label(\"Núm. de alelos:\"),\n",
    "        allele_slider,\n",
    "        Label(\"Taxa de substituição da pop.:\"),\n",
    "        sub_slider,\n",
    "        Label(\"Máx. de gerações (-1 para só interromper quando ocorrer fixação):\"),\n",
    "        gen_slider,\n",
    "        Label(\"Melhor de quantas iterações (seleciona a mais longa dentre as iterações):\"),\n",
    "        run_slider,\n",
    "        HBox([show_btn, clear_btn]),\n",
    "        out,\n",
    "        progress_box)"
   ]
  }
 ],
 "metadata": {
  "celltoolbar": "Hide code",
  "colab": {
   "collapsed_sections": [],
   "name": "deriva_gen.ipynb",
   "provenance": []
  },
  "hide_code_all_hidden": true,
  "kernelspec": {
   "display_name": "Python 3 (ipykernel)",
   "language": "python",
   "name": "python3"
  },
  "language_info": {
   "codemirror_mode": {
    "name": "ipython",
    "version": 3
   },
   "file_extension": ".py",
   "mimetype": "text/x-python",
   "name": "python",
   "nbconvert_exporter": "python",
   "pygments_lexer": "ipython3",
   "version": "3.10.5"
  },
  "widgets": {
   "application/vnd.jupyter.widget-state+json": {
    "state": {
     "00d51e8966934c91bb6e2901b78bc99f": {
      "model_module": "@jupyter-widgets/base",
      "model_module_version": "1.2.0",
      "model_name": "LayoutModel",
      "state": {}
     },
     "02633d2c2bed4363999f6ec2da4efcee": {
      "model_module": "@jupyter-widgets/controls",
      "model_module_version": "1.5.0",
      "model_name": "ButtonStyleModel",
      "state": {}
     },
     "02b45b373c68487e872e880120724602": {
      "model_module": "@jupyter-widgets/controls",
      "model_module_version": "1.5.0",
      "model_name": "LabelModel",
      "state": {
       "layout": "IPY_MODEL_e68fcf6ce41d45a19b65ff7e1c429718",
       "style": "IPY_MODEL_d8331505a40347f3860aeacde68f2aad",
       "value": "População:"
      }
     },
     "0389beb4a49c4f42a3170320f84af14e": {
      "model_module": "@jupyter-widgets/controls",
      "model_module_version": "1.5.0",
      "model_name": "DescriptionStyleModel",
      "state": {
       "description_width": ""
      }
     },
     "06fa65b19b0b4124a788eb915d93fd1d": {
      "model_module": "@jupyter-widgets/base",
      "model_module_version": "1.2.0",
      "model_name": "LayoutModel",
      "state": {}
     },
     "07b28d932a9f418b9baf3d9348b7fc2b": {
      "model_module": "@jupyter-widgets/controls",
      "model_module_version": "1.5.0",
      "model_name": "DescriptionStyleModel",
      "state": {
       "description_width": ""
      }
     },
     "08c01905364e444bab37dd71f4036b68": {
      "model_module": "@jupyter-widgets/base",
      "model_module_version": "1.2.0",
      "model_name": "LayoutModel",
      "state": {}
     },
     "0e3f6d643dd046b7ac07ba202058a742": {
      "model_module": "@jupyter-widgets/base",
      "model_module_version": "1.2.0",
      "model_name": "LayoutModel",
      "state": {}
     },
     "0ece5f300d044d0491e0a0868dae076a": {
      "model_module": "@jupyter-widgets/base",
      "model_module_version": "1.2.0",
      "model_name": "LayoutModel",
      "state": {}
     },
     "0f6b826533c749f98f6b1492745ab9e8": {
      "model_module": "@jupyter-widgets/controls",
      "model_module_version": "1.5.0",
      "model_name": "LabelModel",
      "state": {
       "layout": "IPY_MODEL_28c1559529a040ee96a5616565a07df5",
       "style": "IPY_MODEL_851f57c1d82440b7baab0cc924e68f66",
       "value": "População:"
      }
     },
     "11d9de5d3eeb45178002d8b402ecfd03": {
      "model_module": "@jupyter-widgets/controls",
      "model_module_version": "1.5.0",
      "model_name": "LabelModel",
      "state": {
       "layout": "IPY_MODEL_dce79aa8334346c89b877241458aabc2",
       "style": "IPY_MODEL_33c1f0198b8e4bc093f4904732a04b67",
       "value": "Máx. de gerações (-1 para só interromper quando ocorrer fixação):"
      }
     },
     "123df7dcd353427385f97245369c91b4": {
      "model_module": "@jupyter-widgets/controls",
      "model_module_version": "1.5.0",
      "model_name": "LabelModel",
      "state": {
       "layout": "IPY_MODEL_2309ad7bcb3c4e34a027c0ec3af0eedf",
       "style": "IPY_MODEL_b4c8581650d342e1b0fd7ca24f53acd6",
       "value": "Núm. de alelos:"
      }
     },
     "1266eff06e234afc99a8b9ac66b9710a": {
      "model_module": "@jupyter-widgets/controls",
      "model_module_version": "1.5.0",
      "model_name": "ButtonStyleModel",
      "state": {}
     },
     "12a567585c514ea0ac48223442b40e7d": {
      "model_module": "@jupyter-widgets/base",
      "model_module_version": "1.2.0",
      "model_name": "LayoutModel",
      "state": {}
     },
     "1a06a7e15b1847d78985768ca886fb29": {
      "model_module": "@jupyter-widgets/controls",
      "model_module_version": "1.5.0",
      "model_name": "IntSliderModel",
      "state": {
       "layout": "IPY_MODEL_26a11d15014c4b99a1fc4407a4651d20",
       "max": 10,
       "min": 1,
       "style": "IPY_MODEL_9e583d38a7154507974609b7f9f2742d",
       "value": 3
      }
     },
     "1d16fc97379946039b574c639e298150": {
      "model_module": "@jupyter-widgets/base",
      "model_module_version": "1.2.0",
      "model_name": "LayoutModel",
      "state": {}
     },
     "1e1191078bb24c8a8142661fed1782ea": {
      "model_module": "@jupyter-widgets/controls",
      "model_module_version": "1.5.0",
      "model_name": "FloatLogSliderModel",
      "state": {
       "layout": "IPY_MODEL_c2959ed76293448888e9d6ab08c38483",
       "max": 6,
       "style": "IPY_MODEL_b4bf8338bc244878a99d942325f83483",
       "value": 1000
      }
     },
     "1f12a9c6091e4464a0af1fa645dfed11": {
      "model_module": "@jupyter-widgets/controls",
      "model_module_version": "1.5.0",
      "model_name": "DescriptionStyleModel",
      "state": {
       "description_width": ""
      }
     },
     "1f17995bb3fa4b14a244118ddd5e3b49": {
      "model_module": "@jupyter-widgets/controls",
      "model_module_version": "1.5.0",
      "model_name": "FloatLogSliderModel",
      "state": {
       "layout": "IPY_MODEL_546aac6658e249068728f2e4190b9c00",
       "max": 6,
       "style": "IPY_MODEL_48df29dc8de841d7bc055672c9537606",
       "value": 1000
      }
     },
     "1f5343ba1f1a451ba5521965ed9ac6c2": {
      "model_module": "@jupyter-widgets/controls",
      "model_module_version": "1.5.0",
      "model_name": "DescriptionStyleModel",
      "state": {
       "description_width": ""
      }
     },
     "208995da881b4dbf93c0466e2cacb7c6": {
      "model_module": "@jupyter-widgets/controls",
      "model_module_version": "1.5.0",
      "model_name": "SliderStyleModel",
      "state": {
       "description_width": ""
      }
     },
     "215b2630a7b34308945668bbc913c8f3": {
      "model_module": "@jupyter-widgets/controls",
      "model_module_version": "1.5.0",
      "model_name": "SliderStyleModel",
      "state": {
       "description_width": ""
      }
     },
     "2202dab3d2524f0cb5594f9aeab42e1f": {
      "model_module": "@jupyter-widgets/base",
      "model_module_version": "1.2.0",
      "model_name": "LayoutModel",
      "state": {}
     },
     "2309ad7bcb3c4e34a027c0ec3af0eedf": {
      "model_module": "@jupyter-widgets/base",
      "model_module_version": "1.2.0",
      "model_name": "LayoutModel",
      "state": {}
     },
     "231a8246a825407182eb378e6fe8e914": {
      "model_module": "@jupyter-widgets/controls",
      "model_module_version": "1.5.0",
      "model_name": "LabelModel",
      "state": {
       "layout": "IPY_MODEL_b29b2a09f2824eb6a68e63596ff7967e",
       "style": "IPY_MODEL_311aae5abc5f453d8674295ea030e4af",
       "value": "Máx. de gerações (-1 para só interromper quando ocorrer fixação):"
      }
     },
     "249e64b1af444c40b074bdf46f27d2b2": {
      "model_module": "@jupyter-widgets/controls",
      "model_module_version": "1.5.0",
      "model_name": "HBoxModel",
      "state": {
       "children": [
        "IPY_MODEL_81529916b6104b3f87d737e437fdae3b",
        "IPY_MODEL_80cd7aeeb5a24933be98b180c5ef840e"
       ],
       "layout": "IPY_MODEL_337142d9ae50454bb88cb55c1f2b6bce"
      }
     },
     "2505500c5a6c4469a3177c7ed151bbae": {
      "model_module": "@jupyter-widgets/controls",
      "model_module_version": "1.5.0",
      "model_name": "LabelModel",
      "state": {
       "layout": "IPY_MODEL_366e6fbccb1044da91d369dc0c269381",
       "style": "IPY_MODEL_ce0f82d679e243b18628365e7a3f15c5",
       "value": "Taxa de substituição da pop.:"
      }
     },
     "26a11d15014c4b99a1fc4407a4651d20": {
      "model_module": "@jupyter-widgets/base",
      "model_module_version": "1.2.0",
      "model_name": "LayoutModel",
      "state": {}
     },
     "26de63660a1d4e7399a164d4c5d7644a": {
      "model_module": "@jupyter-widgets/controls",
      "model_module_version": "1.5.0",
      "model_name": "LabelModel",
      "state": {
       "layout": "IPY_MODEL_dcfb20bb279946c0b3983918beb183e8",
       "style": "IPY_MODEL_a2944fd73f4149b4b0ba1bf1b0e52f5d",
       "value": "Máx. de gerações (-1 para só interromper quando ocorrer fixação):"
      }
     },
     "28c1559529a040ee96a5616565a07df5": {
      "model_module": "@jupyter-widgets/base",
      "model_module_version": "1.2.0",
      "model_name": "LayoutModel",
      "state": {}
     },
     "2b90f7c2a70c4901a326b0f0cb42705f": {
      "model_module": "@jupyter-widgets/controls",
      "model_module_version": "1.5.0",
      "model_name": "DescriptionStyleModel",
      "state": {
       "description_width": ""
      }
     },
     "311aae5abc5f453d8674295ea030e4af": {
      "model_module": "@jupyter-widgets/controls",
      "model_module_version": "1.5.0",
      "model_name": "DescriptionStyleModel",
      "state": {
       "description_width": ""
      }
     },
     "31430f9661e7465882958b581f909688": {
      "model_module": "@jupyter-widgets/controls",
      "model_module_version": "1.5.0",
      "model_name": "DescriptionStyleModel",
      "state": {
       "description_width": ""
      }
     },
     "324689b5a5684c3586659bcd9935d7e8": {
      "model_module": "@jupyter-widgets/controls",
      "model_module_version": "1.5.0",
      "model_name": "ButtonModel",
      "state": {
       "description": "Correr",
       "layout": "IPY_MODEL_ed1c5c745545418abc8b991dd1c1ad90",
       "style": "IPY_MODEL_dbdc54859da14d23b8bf54c38df94e8b"
      }
     },
     "337142d9ae50454bb88cb55c1f2b6bce": {
      "model_module": "@jupyter-widgets/base",
      "model_module_version": "1.2.0",
      "model_name": "LayoutModel",
      "state": {
       "visibility": "hidden"
      }
     },
     "33c1f0198b8e4bc093f4904732a04b67": {
      "model_module": "@jupyter-widgets/controls",
      "model_module_version": "1.5.0",
      "model_name": "DescriptionStyleModel",
      "state": {
       "description_width": ""
      }
     },
     "34cef0a5482245f78db40ead6ff355c7": {
      "model_module": "@jupyter-widgets/base",
      "model_module_version": "1.2.0",
      "model_name": "LayoutModel",
      "state": {}
     },
     "36539a2eea864eddb40f06a96bf2c792": {
      "model_module": "@jupyter-widgets/controls",
      "model_module_version": "1.5.0",
      "model_name": "DescriptionStyleModel",
      "state": {
       "description_width": ""
      }
     },
     "366e6fbccb1044da91d369dc0c269381": {
      "model_module": "@jupyter-widgets/base",
      "model_module_version": "1.2.0",
      "model_name": "LayoutModel",
      "state": {}
     },
     "375049b5e93049cd9a30439b92861812": {
      "model_module": "@jupyter-widgets/controls",
      "model_module_version": "1.5.0",
      "model_name": "IntSliderModel",
      "state": {
       "layout": "IPY_MODEL_c1b887945d43470c94082a6f771e69d6",
       "max": 100000,
       "min": -1,
       "style": "IPY_MODEL_41d3f3c90b0645acbe486d2edaea8d67",
       "value": 200
      }
     },
     "383624791dfc40648d2140a83f7680dd": {
      "model_module": "@jupyter-widgets/controls",
      "model_module_version": "1.5.0",
      "model_name": "HBoxModel",
      "state": {
       "children": [
        "IPY_MODEL_8b331f9711be4088ac8955a5a1ad7348",
        "IPY_MODEL_e279505dd6704f32bf646703c3ee4c72"
       ],
       "layout": "IPY_MODEL_d2192c5203574307bf62f19cb583eef1"
      }
     },
     "38ddd65aedd843ab9d7cec3e4e6376a7": {
      "model_module": "@jupyter-widgets/base",
      "model_module_version": "1.2.0",
      "model_name": "LayoutModel",
      "state": {}
     },
     "39b1ed4c0aa74fd4975152d85d7b2e22": {
      "model_module": "@jupyter-widgets/controls",
      "model_module_version": "1.5.0",
      "model_name": "FloatLogSliderModel",
      "state": {
       "layout": "IPY_MODEL_ab568a965b28417cbfc8d8f9ddf457f2",
       "max": 6,
       "style": "IPY_MODEL_60d25a31348340ae9f27a185d0b4cc49",
       "value": 1000
      }
     },
     "39c97419b0a74777a7afbcf85b1730ed": {
      "model_module": "@jupyter-widgets/controls",
      "model_module_version": "1.5.0",
      "model_name": "LabelModel",
      "state": {
       "layout": "IPY_MODEL_9cb101b9bd5848d791b95b1781a56829",
       "style": "IPY_MODEL_1f12a9c6091e4464a0af1fa645dfed11",
       "value": "População:"
      }
     },
     "40cfe279cdbc46d7a5a38c6f573cedeb": {
      "model_module": "@jupyter-widgets/base",
      "model_module_version": "1.2.0",
      "model_name": "LayoutModel",
      "state": {}
     },
     "41d3f3c90b0645acbe486d2edaea8d67": {
      "model_module": "@jupyter-widgets/controls",
      "model_module_version": "1.5.0",
      "model_name": "SliderStyleModel",
      "state": {
       "description_width": ""
      }
     },
     "45282c9abd074bf3a67dec93566ccd18": {
      "model_module": "@jupyter-widgets/controls",
      "model_module_version": "1.5.0",
      "model_name": "IntSliderModel",
      "state": {
       "layout": "IPY_MODEL_0ece5f300d044d0491e0a0868dae076a",
       "max": 100000,
       "min": -1,
       "style": "IPY_MODEL_7c19e58bde7e46019cb74fd5f1905fa6",
       "value": 200
      }
     },
     "48df29dc8de841d7bc055672c9537606": {
      "model_module": "@jupyter-widgets/controls",
      "model_module_version": "1.5.0",
      "model_name": "SliderStyleModel",
      "state": {
       "description_width": ""
      }
     },
     "4b930154a654458091c866331f812634": {
      "model_module": "@jupyter-widgets/controls",
      "model_module_version": "1.5.0",
      "model_name": "IntSliderModel",
      "state": {
       "layout": "IPY_MODEL_727a88d0bdf94e7d91f09f5c6a3863fe",
       "max": 50,
       "min": 1,
       "style": "IPY_MODEL_ac8b808f7d7f4482bd6dc9244b6322c1",
       "value": 1
      }
     },
     "4c94bf867067469c8ce1b51d40247069": {
      "model_module": "@jupyter-widgets/controls",
      "model_module_version": "1.5.0",
      "model_name": "HBoxModel",
      "state": {
       "children": [
        "IPY_MODEL_839c511875614460a24c827aa4b472d3",
        "IPY_MODEL_daf9dcb32f3b4e609be9e02a5c99b086"
       ],
       "layout": "IPY_MODEL_0e3f6d643dd046b7ac07ba202058a742"
      }
     },
     "4cf3024da696439582a6e78abd8c5365": {
      "model_module": "@jupyter-widgets/controls",
      "model_module_version": "1.5.0",
      "model_name": "IntSliderModel",
      "state": {
       "layout": "IPY_MODEL_b1eb79ca9bfa49ba8c64d2da3a045f87",
       "max": 10,
       "min": 1,
       "style": "IPY_MODEL_7b360b9916014e2b842223801626ee8d",
       "value": 3
      }
     },
     "5112c96acc274f1787866acc3454796d": {
      "model_module": "@jupyter-widgets/controls",
      "model_module_version": "1.5.0",
      "model_name": "FloatSliderModel",
      "state": {
       "layout": "IPY_MODEL_6a3a94c9b914482290deb7bf116ed22a",
       "max": 1,
       "step": 0.1,
       "style": "IPY_MODEL_af8300a3f000401ab5de384972387019",
       "value": 1
      }
     },
     "546aac6658e249068728f2e4190b9c00": {
      "model_module": "@jupyter-widgets/base",
      "model_module_version": "1.2.0",
      "model_name": "LayoutModel",
      "state": {}
     },
     "5692aa8566a74c48ac7c71fe5de4d8cb": {
      "model_module": "@jupyter-widgets/controls",
      "model_module_version": "1.5.0",
      "model_name": "LabelModel",
      "state": {
       "layout": "IPY_MODEL_fe565ee866554c0fa964719f6be413a7",
       "style": "IPY_MODEL_0389beb4a49c4f42a3170320f84af14e",
       "value": "Taxa de substituição da pop.:"
      }
     },
     "56c65abfe5ad4a97baf7858b30009a7e": {
      "model_module": "@jupyter-widgets/base",
      "model_module_version": "1.2.0",
      "model_name": "LayoutModel",
      "state": {}
     },
     "59390d63e60f41eeaefd0d4160d4e918": {
      "model_module": "@jupyter-widgets/base",
      "model_module_version": "1.2.0",
      "model_name": "LayoutModel",
      "state": {}
     },
     "5c86538c76194231b4a4b686467ac0f6": {
      "model_module": "@jupyter-widgets/controls",
      "model_module_version": "1.5.0",
      "model_name": "DescriptionStyleModel",
      "state": {
       "description_width": ""
      }
     },
     "5d2673d290464b7da0cd834eda507bb0": {
      "model_module": "@jupyter-widgets/controls",
      "model_module_version": "1.5.0",
      "model_name": "ButtonStyleModel",
      "state": {}
     },
     "606ab35dac88499a831a811b6aa1d2f5": {
      "model_module": "@jupyter-widgets/controls",
      "model_module_version": "1.5.0",
      "model_name": "LabelModel",
      "state": {
       "layout": "IPY_MODEL_59390d63e60f41eeaefd0d4160d4e918",
       "style": "IPY_MODEL_31430f9661e7465882958b581f909688",
       "value": "Melhor de quantas iterações (seleciona a mais longa dentre as iterações):"
      }
     },
     "60d25a31348340ae9f27a185d0b4cc49": {
      "model_module": "@jupyter-widgets/controls",
      "model_module_version": "1.5.0",
      "model_name": "SliderStyleModel",
      "state": {
       "description_width": ""
      }
     },
     "616f4759750944ab81d64b53e5c4b8d5": {
      "model_module": "@jupyter-widgets/base",
      "model_module_version": "1.2.0",
      "model_name": "LayoutModel",
      "state": {}
     },
     "632872f212ad41cca2b387b00c552c8a": {
      "model_module": "@jupyter-widgets/base",
      "model_module_version": "1.2.0",
      "model_name": "LayoutModel",
      "state": {}
     },
     "644bb9e118f44ff092b43d38d4c0b8c0": {
      "model_module": "@jupyter-widgets/controls",
      "model_module_version": "1.5.0",
      "model_name": "HBoxModel",
      "state": {
       "children": [
        "IPY_MODEL_e828d3d503b848d38cfba1df9003fcfc",
        "IPY_MODEL_923fc4769d36473b869fca42e6dffdd9"
       ],
       "layout": "IPY_MODEL_bbe7bc49f4bc41f294319d9bd3b8693e"
      }
     },
     "6747696bb0ca4ddfb86691b131380887": {
      "model_module": "@jupyter-widgets/controls",
      "model_module_version": "1.5.0",
      "model_name": "SliderStyleModel",
      "state": {
       "description_width": ""
      }
     },
     "67c25dc56b064af8806c9ff515da805a": {
      "model_module": "@jupyter-widgets/controls",
      "model_module_version": "1.5.0",
      "model_name": "ButtonStyleModel",
      "state": {}
     },
     "6a3a94c9b914482290deb7bf116ed22a": {
      "model_module": "@jupyter-widgets/base",
      "model_module_version": "1.2.0",
      "model_name": "LayoutModel",
      "state": {}
     },
     "6e55c3a8a2344b65867d8db24a9584dd": {
      "model_module": "@jupyter-widgets/base",
      "model_module_version": "1.2.0",
      "model_name": "LayoutModel",
      "state": {}
     },
     "6f420dc125474174948fc80cdb913199": {
      "model_module": "@jupyter-widgets/controls",
      "model_module_version": "1.5.0",
      "model_name": "SliderStyleModel",
      "state": {
       "description_width": ""
      }
     },
     "7203932338e7445eb4da13a46885994c": {
      "model_module": "@jupyter-widgets/controls",
      "model_module_version": "1.5.0",
      "model_name": "IntSliderModel",
      "state": {
       "layout": "IPY_MODEL_56c65abfe5ad4a97baf7858b30009a7e",
       "max": 50,
       "min": 1,
       "style": "IPY_MODEL_215b2630a7b34308945668bbc913c8f3",
       "value": 1
      }
     },
     "727a88d0bdf94e7d91f09f5c6a3863fe": {
      "model_module": "@jupyter-widgets/base",
      "model_module_version": "1.2.0",
      "model_name": "LayoutModel",
      "state": {}
     },
     "72d18dfbb84d4fa49aec4d80ce3764f7": {
      "model_module": "@jupyter-widgets/controls",
      "model_module_version": "1.5.0",
      "model_name": "ButtonModel",
      "state": {
       "description": "Limpar",
       "layout": "IPY_MODEL_00d51e8966934c91bb6e2901b78bc99f",
       "style": "IPY_MODEL_67c25dc56b064af8806c9ff515da805a"
      }
     },
     "752cd0ec2a564fa9a07e3ad3022c443e": {
      "model_module": "@jupyter-widgets/controls",
      "model_module_version": "1.5.0",
      "model_name": "LabelModel",
      "state": {
       "layout": "IPY_MODEL_b9a474bbc472441ea245c895cf108b93",
       "style": "IPY_MODEL_1f5343ba1f1a451ba5521965ed9ac6c2",
       "value": "Núm. de alelos:"
      }
     },
     "7b360b9916014e2b842223801626ee8d": {
      "model_module": "@jupyter-widgets/controls",
      "model_module_version": "1.5.0",
      "model_name": "SliderStyleModel",
      "state": {
       "description_width": ""
      }
     },
     "7c19e58bde7e46019cb74fd5f1905fa6": {
      "model_module": "@jupyter-widgets/controls",
      "model_module_version": "1.5.0",
      "model_name": "SliderStyleModel",
      "state": {
       "description_width": ""
      }
     },
     "80cd7aeeb5a24933be98b180c5ef840e": {
      "model_module": "@jupyter-widgets/controls",
      "model_module_version": "1.5.0",
      "model_name": "IntProgressModel",
      "state": {
       "layout": "IPY_MODEL_d641865c95df4958a91706d8deecae1f",
       "style": "IPY_MODEL_fe839c2a714547e88a8fca56fa249d19"
      }
     },
     "81529916b6104b3f87d737e437fdae3b": {
      "model_module": "@jupyter-widgets/controls",
      "model_module_version": "1.5.0",
      "model_name": "LabelModel",
      "state": {
       "layout": "IPY_MODEL_6e55c3a8a2344b65867d8db24a9584dd",
       "style": "IPY_MODEL_d9e4b1ac90624dd296730253af652360",
       "value": "Iteração atual: 0/1"
      }
     },
     "839c511875614460a24c827aa4b472d3": {
      "model_module": "@jupyter-widgets/controls",
      "model_module_version": "1.5.0",
      "model_name": "ButtonModel",
      "state": {
       "description": "Correr",
       "layout": "IPY_MODEL_08c01905364e444bab37dd71f4036b68",
       "style": "IPY_MODEL_c3091c2c03ea499b956909477ed6b31d"
      }
     },
     "84acd3b435a94cd7a1ca982c8dbf1f44": {
      "model_module": "@jupyter-widgets/controls",
      "model_module_version": "1.5.0",
      "model_name": "LabelModel",
      "state": {
       "layout": "IPY_MODEL_b3c889a0fc244f8f9ee1d4bc5d9f1740",
       "style": "IPY_MODEL_36539a2eea864eddb40f06a96bf2c792",
       "value": "Melhor de quantas iterações (seleciona a mais longa dentre as iterações):"
      }
     },
     "851f57c1d82440b7baab0cc924e68f66": {
      "model_module": "@jupyter-widgets/controls",
      "model_module_version": "1.5.0",
      "model_name": "DescriptionStyleModel",
      "state": {
       "description_width": ""
      }
     },
     "8671aa6916b049ecaa0e91bddf3b6d36": {
      "model_module": "@jupyter-widgets/base",
      "model_module_version": "1.2.0",
      "model_name": "LayoutModel",
      "state": {}
     },
     "86c0bbb68a8148e1a2c88d189657903e": {
      "model_module": "@jupyter-widgets/controls",
      "model_module_version": "1.5.0",
      "model_name": "IntSliderModel",
      "state": {
       "layout": "IPY_MODEL_b5b3471c05a944eb8d027ff096d9f970",
       "max": 50,
       "min": 1,
       "style": "IPY_MODEL_8baa7f662f0140b9a74faae68ab5b3cd",
       "value": 1
      }
     },
     "8995a3b731254535a555644b4c3effaf": {
      "model_module": "@jupyter-widgets/controls",
      "model_module_version": "1.5.0",
      "model_name": "FloatSliderModel",
      "state": {
       "layout": "IPY_MODEL_1d16fc97379946039b574c639e298150",
       "max": 1,
       "step": 0.1,
       "style": "IPY_MODEL_6f420dc125474174948fc80cdb913199",
       "value": 1
      }
     },
     "8b331f9711be4088ac8955a5a1ad7348": {
      "model_module": "@jupyter-widgets/controls",
      "model_module_version": "1.5.0",
      "model_name": "LabelModel",
      "state": {
       "layout": "IPY_MODEL_40cfe279cdbc46d7a5a38c6f573cedeb",
       "style": "IPY_MODEL_07b28d932a9f418b9baf3d9348b7fc2b",
       "value": "Iteração atual: 0/1"
      }
     },
     "8baa7f662f0140b9a74faae68ab5b3cd": {
      "model_module": "@jupyter-widgets/controls",
      "model_module_version": "1.5.0",
      "model_name": "SliderStyleModel",
      "state": {
       "description_width": ""
      }
     },
     "8c7d02f6b79f4599a06451fe8c2f9f3a": {
      "model_module": "@jupyter-widgets/controls",
      "model_module_version": "1.5.0",
      "model_name": "IntSliderModel",
      "state": {
       "layout": "IPY_MODEL_12a567585c514ea0ac48223442b40e7d",
       "max": 10,
       "min": 1,
       "style": "IPY_MODEL_c997dcd16d804272af36a8575e7054b8",
       "value": 3
      }
     },
     "904fbeb104a34321bac13d0c3a84f9eb": {
      "model_module": "@jupyter-widgets/controls",
      "model_module_version": "1.5.0",
      "model_name": "LabelModel",
      "state": {
       "layout": "IPY_MODEL_bc79956f793e41b9bd954db7ccae019e",
       "style": "IPY_MODEL_eb10fb894cf249ffb8198271a0790885",
       "value": "Melhor de quantas iterações (seleciona a mais longa dentre as iterações):"
      }
     },
     "905aab4959d0439889c4560f76d193c3": {
      "model_module": "@jupyter-widgets/base",
      "model_module_version": "1.2.0",
      "model_name": "LayoutModel",
      "state": {}
     },
     "923fc4769d36473b869fca42e6dffdd9": {
      "model_module": "@jupyter-widgets/controls",
      "model_module_version": "1.5.0",
      "model_name": "IntProgressModel",
      "state": {
       "layout": "IPY_MODEL_dcc5bd5d22514b0084bcc0f2eaf30b25",
       "style": "IPY_MODEL_9fccb9b6d6b941e082be338cd1e93a84"
      }
     },
     "9535e03948aa44468d2b728392f94a07": {
      "model_module": "@jupyter-widgets/base",
      "model_module_version": "1.2.0",
      "model_name": "LayoutModel",
      "state": {}
     },
     "9a120134d84f486285bed1c31463416c": {
      "model_module": "@jupyter-widgets/controls",
      "model_module_version": "1.5.0",
      "model_name": "HBoxModel",
      "state": {
       "children": [
        "IPY_MODEL_324689b5a5684c3586659bcd9935d7e8",
        "IPY_MODEL_72d18dfbb84d4fa49aec4d80ce3764f7"
       ],
       "layout": "IPY_MODEL_2202dab3d2524f0cb5594f9aeab42e1f"
      }
     },
     "9c4a11c9f94446a6913b66e9a1cc143a": {
      "model_module": "@jupyter-widgets/controls",
      "model_module_version": "1.5.0",
      "model_name": "ProgressStyleModel",
      "state": {
       "description_width": ""
      }
     },
     "9cb101b9bd5848d791b95b1781a56829": {
      "model_module": "@jupyter-widgets/base",
      "model_module_version": "1.2.0",
      "model_name": "LayoutModel",
      "state": {}
     },
     "9e583d38a7154507974609b7f9f2742d": {
      "model_module": "@jupyter-widgets/controls",
      "model_module_version": "1.5.0",
      "model_name": "SliderStyleModel",
      "state": {
       "description_width": ""
      }
     },
     "9fccb9b6d6b941e082be338cd1e93a84": {
      "model_module": "@jupyter-widgets/controls",
      "model_module_version": "1.5.0",
      "model_name": "ProgressStyleModel",
      "state": {
       "description_width": ""
      }
     },
     "a2944fd73f4149b4b0ba1bf1b0e52f5d": {
      "model_module": "@jupyter-widgets/controls",
      "model_module_version": "1.5.0",
      "model_name": "DescriptionStyleModel",
      "state": {
       "description_width": ""
      }
     },
     "a5276179a1e7461b88199110c16c21b1": {
      "model_module": "@jupyter-widgets/controls",
      "model_module_version": "1.5.0",
      "model_name": "IntSliderModel",
      "state": {
       "layout": "IPY_MODEL_d3f8d2e5b9a44a00803cda4a63e11790",
       "max": 100000,
       "min": -1,
       "style": "IPY_MODEL_6747696bb0ca4ddfb86691b131380887",
       "value": 200
      }
     },
     "a53505e2e2a94094ab7565fb88fdf9bf": {
      "model_module": "@jupyter-widgets/base",
      "model_module_version": "1.2.0",
      "model_name": "LayoutModel",
      "state": {}
     },
     "a9152ef0c966497e8992b64b92163acf": {
      "model_module": "@jupyter-widgets/base",
      "model_module_version": "1.2.0",
      "model_name": "LayoutModel",
      "state": {}
     },
     "ab568a965b28417cbfc8d8f9ddf457f2": {
      "model_module": "@jupyter-widgets/base",
      "model_module_version": "1.2.0",
      "model_name": "LayoutModel",
      "state": {}
     },
     "ac8b808f7d7f4482bd6dc9244b6322c1": {
      "model_module": "@jupyter-widgets/controls",
      "model_module_version": "1.5.0",
      "model_name": "SliderStyleModel",
      "state": {
       "description_width": ""
      }
     },
     "af8300a3f000401ab5de384972387019": {
      "model_module": "@jupyter-widgets/controls",
      "model_module_version": "1.5.0",
      "model_name": "SliderStyleModel",
      "state": {
       "description_width": ""
      }
     },
     "b1eb79ca9bfa49ba8c64d2da3a045f87": {
      "model_module": "@jupyter-widgets/base",
      "model_module_version": "1.2.0",
      "model_name": "LayoutModel",
      "state": {}
     },
     "b20b8675525140199dedd3a623d40bc1": {
      "model_module": "@jupyter-widgets/output",
      "model_module_version": "1.0.0",
      "model_name": "OutputModel",
      "state": {
       "layout": "IPY_MODEL_905aab4959d0439889c4560f76d193c3"
      }
     },
     "b29b2a09f2824eb6a68e63596ff7967e": {
      "model_module": "@jupyter-widgets/base",
      "model_module_version": "1.2.0",
      "model_name": "LayoutModel",
      "state": {}
     },
     "b3c889a0fc244f8f9ee1d4bc5d9f1740": {
      "model_module": "@jupyter-widgets/base",
      "model_module_version": "1.2.0",
      "model_name": "LayoutModel",
      "state": {}
     },
     "b4bf8338bc244878a99d942325f83483": {
      "model_module": "@jupyter-widgets/controls",
      "model_module_version": "1.5.0",
      "model_name": "SliderStyleModel",
      "state": {
       "description_width": ""
      }
     },
     "b4c8581650d342e1b0fd7ca24f53acd6": {
      "model_module": "@jupyter-widgets/controls",
      "model_module_version": "1.5.0",
      "model_name": "DescriptionStyleModel",
      "state": {
       "description_width": ""
      }
     },
     "b5b3471c05a944eb8d027ff096d9f970": {
      "model_module": "@jupyter-widgets/base",
      "model_module_version": "1.2.0",
      "model_name": "LayoutModel",
      "state": {}
     },
     "b6bf41e8becd4ca7a56f5954685de450": {
      "model_module": "@jupyter-widgets/base",
      "model_module_version": "1.2.0",
      "model_name": "LayoutModel",
      "state": {}
     },
     "b9a474bbc472441ea245c895cf108b93": {
      "model_module": "@jupyter-widgets/base",
      "model_module_version": "1.2.0",
      "model_name": "LayoutModel",
      "state": {}
     },
     "bbe7bc49f4bc41f294319d9bd3b8693e": {
      "model_module": "@jupyter-widgets/base",
      "model_module_version": "1.2.0",
      "model_name": "LayoutModel",
      "state": {
       "visibility": "hidden"
      }
     },
     "bc79956f793e41b9bd954db7ccae019e": {
      "model_module": "@jupyter-widgets/base",
      "model_module_version": "1.2.0",
      "model_name": "LayoutModel",
      "state": {}
     },
     "c0cdc3b316d44806be2a9992f562a09a": {
      "model_module": "@jupyter-widgets/controls",
      "model_module_version": "1.5.0",
      "model_name": "ButtonModel",
      "state": {
       "description": "Correr",
       "layout": "IPY_MODEL_34cef0a5482245f78db40ead6ff355c7",
       "style": "IPY_MODEL_5d2673d290464b7da0cd834eda507bb0"
      }
     },
     "c1b887945d43470c94082a6f771e69d6": {
      "model_module": "@jupyter-widgets/base",
      "model_module_version": "1.2.0",
      "model_name": "LayoutModel",
      "state": {}
     },
     "c2959ed76293448888e9d6ab08c38483": {
      "model_module": "@jupyter-widgets/base",
      "model_module_version": "1.2.0",
      "model_name": "LayoutModel",
      "state": {}
     },
     "c3091c2c03ea499b956909477ed6b31d": {
      "model_module": "@jupyter-widgets/controls",
      "model_module_version": "1.5.0",
      "model_name": "ButtonStyleModel",
      "state": {}
     },
     "c5db5ea426734f04993b670f1873b2fb": {
      "model_module": "@jupyter-widgets/controls",
      "model_module_version": "1.5.0",
      "model_name": "ButtonModel",
      "state": {
       "description": "Limpar",
       "layout": "IPY_MODEL_38ddd65aedd843ab9d7cec3e4e6376a7",
       "style": "IPY_MODEL_02633d2c2bed4363999f6ec2da4efcee"
      }
     },
     "c997dcd16d804272af36a8575e7054b8": {
      "model_module": "@jupyter-widgets/controls",
      "model_module_version": "1.5.0",
      "model_name": "SliderStyleModel",
      "state": {
       "description_width": ""
      }
     },
     "ca8c194861b844edac97b6f37f305ecc": {
      "model_module": "@jupyter-widgets/controls",
      "model_module_version": "1.5.0",
      "model_name": "LabelModel",
      "state": {
       "layout": "IPY_MODEL_f10957e925e04e0bac97c9e87e965400",
       "style": "IPY_MODEL_5c86538c76194231b4a4b686467ac0f6",
       "value": "Taxa de substituição da pop.:"
      }
     },
     "ce0f82d679e243b18628365e7a3f15c5": {
      "model_module": "@jupyter-widgets/controls",
      "model_module_version": "1.5.0",
      "model_name": "DescriptionStyleModel",
      "state": {
       "description_width": ""
      }
     },
     "d2192c5203574307bf62f19cb583eef1": {
      "model_module": "@jupyter-widgets/base",
      "model_module_version": "1.2.0",
      "model_name": "LayoutModel",
      "state": {
       "visibility": "hidden"
      }
     },
     "d3f8d2e5b9a44a00803cda4a63e11790": {
      "model_module": "@jupyter-widgets/base",
      "model_module_version": "1.2.0",
      "model_name": "LayoutModel",
      "state": {}
     },
     "d641865c95df4958a91706d8deecae1f": {
      "model_module": "@jupyter-widgets/base",
      "model_module_version": "1.2.0",
      "model_name": "LayoutModel",
      "state": {}
     },
     "d8331505a40347f3860aeacde68f2aad": {
      "model_module": "@jupyter-widgets/controls",
      "model_module_version": "1.5.0",
      "model_name": "DescriptionStyleModel",
      "state": {
       "description_width": ""
      }
     },
     "d9e4b1ac90624dd296730253af652360": {
      "model_module": "@jupyter-widgets/controls",
      "model_module_version": "1.5.0",
      "model_name": "DescriptionStyleModel",
      "state": {
       "description_width": ""
      }
     },
     "daf9dcb32f3b4e609be9e02a5c99b086": {
      "model_module": "@jupyter-widgets/controls",
      "model_module_version": "1.5.0",
      "model_name": "ButtonModel",
      "state": {
       "description": "Limpar",
       "layout": "IPY_MODEL_8671aa6916b049ecaa0e91bddf3b6d36",
       "style": "IPY_MODEL_1266eff06e234afc99a8b9ac66b9710a"
      }
     },
     "dbdc54859da14d23b8bf54c38df94e8b": {
      "model_module": "@jupyter-widgets/controls",
      "model_module_version": "1.5.0",
      "model_name": "ButtonStyleModel",
      "state": {}
     },
     "dcc5bd5d22514b0084bcc0f2eaf30b25": {
      "model_module": "@jupyter-widgets/base",
      "model_module_version": "1.2.0",
      "model_name": "LayoutModel",
      "state": {}
     },
     "dce79aa8334346c89b877241458aabc2": {
      "model_module": "@jupyter-widgets/base",
      "model_module_version": "1.2.0",
      "model_name": "LayoutModel",
      "state": {}
     },
     "dcfb20bb279946c0b3983918beb183e8": {
      "model_module": "@jupyter-widgets/base",
      "model_module_version": "1.2.0",
      "model_name": "LayoutModel",
      "state": {}
     },
     "debae4d425934d7f94cdcadf6e2cab51": {
      "model_module": "@jupyter-widgets/output",
      "model_module_version": "1.0.0",
      "model_name": "OutputModel",
      "state": {
       "layout": "IPY_MODEL_a9152ef0c966497e8992b64b92163acf"
      }
     },
     "dee1bfb8ff544fe8a9bcbec888d17f50": {
      "model_module": "@jupyter-widgets/controls",
      "model_module_version": "1.5.0",
      "model_name": "LabelModel",
      "state": {
       "layout": "IPY_MODEL_b6bf41e8becd4ca7a56f5954685de450",
       "style": "IPY_MODEL_e6407fab8e234d44b4c31937da7fee63",
       "value": "Núm. de alelos:"
      }
     },
     "e279505dd6704f32bf646703c3ee4c72": {
      "model_module": "@jupyter-widgets/controls",
      "model_module_version": "1.5.0",
      "model_name": "IntProgressModel",
      "state": {
       "layout": "IPY_MODEL_06fa65b19b0b4124a788eb915d93fd1d",
       "style": "IPY_MODEL_9c4a11c9f94446a6913b66e9a1cc143a"
      }
     },
     "e6407fab8e234d44b4c31937da7fee63": {
      "model_module": "@jupyter-widgets/controls",
      "model_module_version": "1.5.0",
      "model_name": "DescriptionStyleModel",
      "state": {
       "description_width": ""
      }
     },
     "e68fcf6ce41d45a19b65ff7e1c429718": {
      "model_module": "@jupyter-widgets/base",
      "model_module_version": "1.2.0",
      "model_name": "LayoutModel",
      "state": {}
     },
     "e828d3d503b848d38cfba1df9003fcfc": {
      "model_module": "@jupyter-widgets/controls",
      "model_module_version": "1.5.0",
      "model_name": "LabelModel",
      "state": {
       "layout": "IPY_MODEL_9535e03948aa44468d2b728392f94a07",
       "style": "IPY_MODEL_2b90f7c2a70c4901a326b0f0cb42705f",
       "value": "Iteração atual: 0/1"
      }
     },
     "eb10fb894cf249ffb8198271a0790885": {
      "model_module": "@jupyter-widgets/controls",
      "model_module_version": "1.5.0",
      "model_name": "DescriptionStyleModel",
      "state": {
       "description_width": ""
      }
     },
     "ed1c5c745545418abc8b991dd1c1ad90": {
      "model_module": "@jupyter-widgets/base",
      "model_module_version": "1.2.0",
      "model_name": "LayoutModel",
      "state": {}
     },
     "ed5373762ca14969a3d1b78a31734bd6": {
      "model_module": "@jupyter-widgets/controls",
      "model_module_version": "1.5.0",
      "model_name": "FloatSliderModel",
      "state": {
       "layout": "IPY_MODEL_616f4759750944ab81d64b53e5c4b8d5",
       "max": 1,
       "step": 0.1,
       "style": "IPY_MODEL_208995da881b4dbf93c0466e2cacb7c6",
       "value": 1
      }
     },
     "f10957e925e04e0bac97c9e87e965400": {
      "model_module": "@jupyter-widgets/base",
      "model_module_version": "1.2.0",
      "model_name": "LayoutModel",
      "state": {}
     },
     "f6a94a992cae4a998aa8e3611b7b3c4d": {
      "model_module": "@jupyter-widgets/output",
      "model_module_version": "1.0.0",
      "model_name": "OutputModel",
      "state": {
       "layout": "IPY_MODEL_a53505e2e2a94094ab7565fb88fdf9bf"
      }
     },
     "fa209c4dac25475995b9adb93d78c762": {
      "model_module": "@jupyter-widgets/controls",
      "model_module_version": "1.5.0",
      "model_name": "HBoxModel",
      "state": {
       "children": [
        "IPY_MODEL_c0cdc3b316d44806be2a9992f562a09a",
        "IPY_MODEL_c5db5ea426734f04993b670f1873b2fb"
       ],
       "layout": "IPY_MODEL_632872f212ad41cca2b387b00c552c8a"
      }
     },
     "fe565ee866554c0fa964719f6be413a7": {
      "model_module": "@jupyter-widgets/base",
      "model_module_version": "1.2.0",
      "model_name": "LayoutModel",
      "state": {}
     },
     "fe839c2a714547e88a8fca56fa249d19": {
      "model_module": "@jupyter-widgets/controls",
      "model_module_version": "1.5.0",
      "model_name": "ProgressStyleModel",
      "state": {
       "description_width": ""
      }
     }
    },
    "version_major": 2,
    "version_minor": 0
   }
  }
 },
 "nbformat": 4,
 "nbformat_minor": 5
}
