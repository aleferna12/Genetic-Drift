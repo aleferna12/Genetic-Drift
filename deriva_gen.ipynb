{
  "cells": [
    {
      "cell_type": "markdown",
      "id": "oHyQiaBuKn8d",
      "metadata": {
        "id": "oHyQiaBuKn8d"
      },
      "source": [
        "## Introdução\n",
        "\n",
        "A deriva genética é um importante fenômeno evolutivo responsável por causar variações nas frequências alélicas de um determinado gene de uma população ao longo do tempo. Devido ao seu caráter estocástico, o efeito da deriva genética é mais forte quanto menor o tamanho da população sobre a qual ela atua. Para melhor entender como funciona esse mecanismo e como ele será simulado a seguir, vejamos o seguinte exemplo:\n",
        "\n",
        "Dois alelos, *A* e *a*, são equifrequentes numa população de 10 organismos diploides. A cada geração, parte dessa população se reproduz, gerando descendência, e parte morre. O percentual da população que morre a cada geração (S) é idêntico ao percentual que é renovado por novos nascimentos, de modo que o tamanho da população (N = 10) é constante ao longo do tempo. Para esse exemplo, vamos assumir que S = 1, o que significa que a população será totalmente renovada a cada geração.\n",
        "\n",
        "O efeito da deriva genética nesse caso nada mais é do que a incerteza associada ao processo de amostragem. Cada vez que amostramos aleatóriamente gametas para gerar os descendentes da população, a frequência dos alelos *A* e *a* variam levemente ao redor de uma média (a média nesse caso é a frequência dos alelos na geração passada). Isso ocorre porque a amostragem é feita com reposição, de modo que o mesmo indivíduo pode contribuir varias vezes os seus gametas para a geração seguinte, gerando variação nas frequências ao longo do tempo. Como a estimativa das frequências alélicas da geração seguinte dependem somente das frequências na geração atual, essa variação pode progressivamente se acumular, causando alterações significativas no panorama genético da população ao longo prazo. Esse efeito é ainda acentuado pelo fato de que o sistema pode evoluir ao longo do tempo, já que alelos são extintos quando sua frequência chega a 0."
      ]
    },
    {
      "cell_type": "markdown",
      "id": "-0kVoHQmeywS",
      "metadata": {
        "id": "-0kVoHQmeywS"
      },
      "source": [
        "## Simulação de deriva genética\n",
        "\n",
        "Baseado no que determinamos previamente, podemos seguir uma série de passos que nos permitirão simular o fenômeno de deriva genética. São eles:\n",
        "\n",
        "1. Inicializar uma população com tamanho N e alelos equifrequentes;\n",
        "2. Para cada geração:\n",
        "  1. Gerar S x N descendentes por cruzamentos aleatórios (amostragem com reposição);\n",
        "  2. Eliminar (1 - S) x N organismos da geração anterior (amostragem sem reposição);\n",
        "  3. Concatenar os descendentes e sobreviventes numa nova população;\n",
        "  4. Avaliar estatisticamente as novas frequências alélicas;\n",
        "3. Quando o número desejado de gerações se passou ou um dos alelos foi fixado, parar a simulação e apresentar os resultados.\n",
        "\n",
        "Onde:\n",
        "\n",
        "+ N = tamanho da população diploide;\n",
        "+ S = percentual (0-1) da população renovada a cada geração.\n",
        "\n",
        "No entanto, podemos ainda simplificar esse algoritmo ao presumir que a população se encontra em equilíbrio de [Hardy-Weinberg](https://pt.wikipedia.org/wiki/Equil%C3%ADbrio_de_Hardy-Weinberg). Essa simplicação é possível porque os nossos cruzamentos ocorrem ao acaso na população, de modo que não é necessário simular cada organismo diploide independentemente. Ao invés disso, podemos resumir a nossa população diploide aos seus gametas, tal que o tamanho da população gamética seja igual a 2 x N. O restante dos passos do algoritmo permanecem iguais."
      ]
    },
    {
      "cell_type": "markdown",
      "id": "Jono8Jp8gD8A",
      "metadata": {
        "id": "Jono8Jp8gD8A"
      },
      "source": [
        "## Resultados esperados\n",
        "\n",
        "Esperamos que o efeito da deriva genética seja mais forte:\n",
        "\n",
        "1. Quanto menor for o tamanho da população (N);\n",
        "2. Quanto maior for a taxa de substituição da população (S).\n",
        "\n",
        "Compare os resultados a seguir, simulados ambos com 3 alelos iniciais por 200 gerações, mas com populações de tamanhos diferentes:\n",
        "\n",
        "![Imgur](https://i.imgur.com/mdrqJ1y.png)\n",
        "\n",
        "Os resultados seguem o que esperávamos? Experimente alterar outros parâmetros no simulador para ver como isso impacta o efeito da deriva genética."
      ]
    },
    {
      "cell_type": "markdown",
      "id": "ryiapDLddujC",
      "metadata": {
        "id": "ryiapDLddujC"
      },
      "source": [
        "## Simulador"
      ]
    },
    {
      "cell_type": "code",
      "execution_count": null,
      "id": "d823ce62",
      "metadata": {
        "hideCode": true,
        "hidePrompt": true,
        "hide_input": false,
        "id": "d823ce62",
        "scrolled": true,
        "cellView": "form"
      },
      "outputs": [],
      "source": [
        "#@title Clique no botão \"▶\" abaixo para rodar o simulador e depois clique em \"Iniciar\" para começar uma simulação com os parâmetros selecionados\n",
        "%matplotlib inline\n",
        "import numpy as np\n",
        "import matplotlib.pyplot as plt\n",
        "from ipywidgets import IntSlider, FloatSlider, FloatLogSlider, Button, IntProgress, Label, HBox, Output\n",
        "\n",
        "\n",
        "def simulate(pop, allele_freqs, sub_rate, gens, n_runs):\n",
        "    alleles = tuple(range(len(allele_freqs)))\n",
        "    runs = []\n",
        "    for i in range(n_runs):\n",
        "        run_progress.value = i\n",
        "        run_label.value = f\"Iteração atual: {i}/{run_progress.max}\"\n",
        "        new_pop = np.array(alleles * (2 * pop // len(alleles)) + alleles[:2 * pop % len(alleles)])\n",
        "        stats = [np.bincount(new_pop, minlength=len(alleles)) / (2 * pop)]\n",
        "        while 1 not in stats[-1] and (gens == -1 or len(stats) < gens):\n",
        "            if len(alleles) != len(stats[-1]):\n",
        "                print(i, alleles, stats[-1])\n",
        "            descendents = np.random.choice(alleles, round(2 * pop * sub_rate), p=stats[-1])\n",
        "            survivors = np.random.choice(new_pop, round(2 * pop * (1 - sub_rate)), replace=False)\n",
        "            new_pop = np.concatenate((descendents, survivors))\n",
        "            stats.append(np.bincount(new_pop, minlength=len(alleles)) / (2 * pop))\n",
        "        runs.append(stats)\n",
        "    run_progress.value = run_progress.max\n",
        "    run_label.value = f\"Iteração atual: {run_progress.max}/{run_progress.max}\"\n",
        "    return np.array(max(runs, key=len))\n",
        "\n",
        "\n",
        "def plot(btn):\n",
        "    run_progress.max = run_slider.value\n",
        "    progress_box.layout.visibility = \"visible\"\n",
        "    stats = simulate(round(pop_slider.value),\n",
        "                     [1/allele_slider.value] * allele_slider.value,\n",
        "                     sub_slider.value,\n",
        "                     gen_slider.value, \n",
        "                     run_slider.value)\n",
        "    fig, axes = plt.subplots(1, 2)\n",
        "    fig.set_size_inches(12.8, 2.4)\n",
        "    x = range(len(stats))\n",
        "    axes[0].plot(x, np.where(stats != 0, stats, np.nan))\n",
        "    axes[0].set_ylim((0, 1))\n",
        "    axes[0].autoscale(tight=True, axis=\"x\")\n",
        "    axes[1].stackplot(x, *np.transpose(stats))\n",
        "    axes[1].autoscale(tight=True)\n",
        "    fig.suptitle(f\"População: {round(pop_slider.value)} | \"\n",
        "                 f\"Taxa de subs.: {sub_slider.value} | \"\n",
        "                 f\"Gerações: {len(stats)}\",\n",
        "                 fontsize=\"medium\",\n",
        "                 fontweight=\"bold\")\n",
        "    with out:\n",
        "        plt.show()\n",
        "    progress_box.layout.visibility = \"hidden\"\n",
        "\n",
        "\n",
        "pop_slider = FloatLogSlider(min=0, max=6, value=1000)\n",
        "allele_slider = IntSlider(min=1, max=10, value=3)\n",
        "sub_slider = FloatSlider(min=0, max=1, value=1)\n",
        "gen_slider = IntSlider(min=-1, max=100_000, value=200)\n",
        "run_slider = IntSlider(min=1, max=50, value=1)\n",
        "show_btn = Button(description=\"Iniciar\")\n",
        "clear_btn = Button(description=\"Limpar\")\n",
        "run_label = Label(value=f\"Iteração atual: 0/{run_slider.value}\")\n",
        "run_progress = IntProgress()\n",
        "out = Output()\n",
        "progress_box = HBox([run_label, run_progress])\n",
        "progress_box.layout.visibility = \"hidden\"\n",
        "    \n",
        "show_btn.on_click(plot)\n",
        "clear_btn.on_click(lambda btn: out.clear_output())\n",
        "display(Label(\"População:\"),\n",
        "        pop_slider,\n",
        "        Label(\"Núm. de alelos:\"),\n",
        "        allele_slider,\n",
        "        Label(\"Taxa de substituição da pop.:\"),\n",
        "        sub_slider,\n",
        "        Label(\"Máx. de gerações (-1 para só interromper quando ocorrer fixação):\"),\n",
        "        gen_slider,\n",
        "        Label(\"Melhor de quantas iterações (seleciona a mais longa dentre as iterações):\"),\n",
        "        run_slider,\n",
        "        HBox([show_btn, clear_btn]),\n",
        "        out,\n",
        "        progress_box)"
      ]
    }
  ],
  "metadata": {
    "celltoolbar": "Hide code",
    "colab": {
      "provenance": []
    },
    "hide_code_all_hidden": true,
    "kernelspec": {
      "display_name": "Python 3 (ipykernel)",
      "language": "python",
      "name": "python3"
    },
    "language_info": {
      "codemirror_mode": {
        "name": "ipython",
        "version": 3
      },
      "file_extension": ".py",
      "mimetype": "text/x-python",
      "name": "python",
      "nbconvert_exporter": "python",
      "pygments_lexer": "ipython3",
      "version": "3.10.5"
    }
  },
  "nbformat": 4,
  "nbformat_minor": 5
}
